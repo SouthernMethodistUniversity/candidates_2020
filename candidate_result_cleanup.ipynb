{
 "cells": [
  {
   "cell_type": "code",
   "execution_count": 1,
   "metadata": {},
   "outputs": [],
   "source": [
    "import pandas as pd\n",
    "import numpy as np"
   ]
  },
  {
   "cell_type": "code",
   "execution_count": 2,
   "metadata": {},
   "outputs": [],
   "source": [
    "urls = pd.read_csv(\"candidate_url.txt\",names=[\"URL\"]).reset_index()\n",
    "urls = urls.rename(columns={'index':'jobNum'})\n",
    "urls['jobNum']=urls['jobNum']+1"
   ]
  },
  {
   "cell_type": "code",
   "execution_count": 3,
   "metadata": {},
   "outputs": [
    {
     "data": {
      "text/html": [
       "<div>\n",
       "<style scoped>\n",
       "    .dataframe tbody tr th:only-of-type {\n",
       "        vertical-align: middle;\n",
       "    }\n",
       "\n",
       "    .dataframe tbody tr th {\n",
       "        vertical-align: top;\n",
       "    }\n",
       "\n",
       "    .dataframe thead th {\n",
       "        text-align: right;\n",
       "    }\n",
       "</style>\n",
       "<table border=\"1\" class=\"dataframe\">\n",
       "  <thead>\n",
       "    <tr style=\"text-align: right;\">\n",
       "      <th></th>\n",
       "      <th>jobNum</th>\n",
       "      <th>URL</th>\n",
       "    </tr>\n",
       "  </thead>\n",
       "  <tbody>\n",
       "    <tr>\n",
       "      <th>0</th>\n",
       "      <td>1</td>\n",
       "      <td>https://jamesaverhart.com/meet-james/</td>\n",
       "    </tr>\n",
       "    <tr>\n",
       "      <th>1</th>\n",
       "      <td>2</td>\n",
       "      <td>https://harveyhall2congress.com/meet-phyllis/#...</td>\n",
       "    </tr>\n",
       "    <tr>\n",
       "      <th>2</th>\n",
       "      <td>3</td>\n",
       "      <td>https://www.winfrey4congress.com/meet-dr-dia</td>\n",
       "    </tr>\n",
       "    <tr>\n",
       "      <th>3</th>\n",
       "      <td>4</td>\n",
       "      <td>https://neighbors4congress.com/meet-rick-neigh...</td>\n",
       "    </tr>\n",
       "    <tr>\n",
       "      <th>4</th>\n",
       "      <td>5</td>\n",
       "      <td>https://sewellforcongress.com/about-terri/</td>\n",
       "    </tr>\n",
       "    <tr>\n",
       "      <th>...</th>\n",
       "      <td>...</td>\n",
       "      <td>...</td>\n",
       "    </tr>\n",
       "    <tr>\n",
       "      <th>2071</th>\n",
       "      <td>2072</td>\n",
       "      <td>https://markwarnerva.com/</td>\n",
       "    </tr>\n",
       "    <tr>\n",
       "      <th>2072</th>\n",
       "      <td>2073</td>\n",
       "      <td>http://capito2020.com/</td>\n",
       "    </tr>\n",
       "    <tr>\n",
       "      <th>2073</th>\n",
       "      <td>2074</td>\n",
       "      <td>https://paulajean.com/</td>\n",
       "    </tr>\n",
       "    <tr>\n",
       "      <th>2074</th>\n",
       "      <td>2075</td>\n",
       "      <td>https://www.bendavid2020.com/</td>\n",
       "    </tr>\n",
       "    <tr>\n",
       "      <th>2075</th>\n",
       "      <td>2076</td>\n",
       "      <td>https://www.lummisforwyoming.com/</td>\n",
       "    </tr>\n",
       "  </tbody>\n",
       "</table>\n",
       "<p>2076 rows × 2 columns</p>\n",
       "</div>"
      ],
      "text/plain": [
       "      jobNum                                                URL\n",
       "0          1              https://jamesaverhart.com/meet-james/\n",
       "1          2  https://harveyhall2congress.com/meet-phyllis/#...\n",
       "2          3       https://www.winfrey4congress.com/meet-dr-dia\n",
       "3          4  https://neighbors4congress.com/meet-rick-neigh...\n",
       "4          5         https://sewellforcongress.com/about-terri/\n",
       "...      ...                                                ...\n",
       "2071    2072                          https://markwarnerva.com/\n",
       "2072    2073                             http://capito2020.com/\n",
       "2073    2074                             https://paulajean.com/\n",
       "2074    2075                      https://www.bendavid2020.com/\n",
       "2075    2076                  https://www.lummisforwyoming.com/\n",
       "\n",
       "[2076 rows x 2 columns]"
      ]
     },
     "execution_count": 3,
     "metadata": {},
     "output_type": "execute_result"
    }
   ],
   "source": [
    "urls"
   ]
  },
  {
   "cell_type": "code",
   "execution_count": 4,
   "metadata": {},
   "outputs": [],
   "source": [
    "dirpath = '/scratch/group/oit_research_services/projects/001_kunovich_candidates/'"
   ]
  },
  {
   "cell_type": "code",
   "execution_count": 5,
   "metadata": {},
   "outputs": [],
   "source": [
    "run1 = 'output_files_15067583/'\n",
    "run2 = 'output_files_15070517/'"
   ]
  },
  {
   "cell_type": "code",
   "execution_count": 6,
   "metadata": {},
   "outputs": [],
   "source": [
    "run1urls = pd.read_csv(dirpath+run1+'test.csv',names=['jobNum','URL','hash'])"
   ]
  },
  {
   "cell_type": "code",
   "execution_count": 7,
   "metadata": {},
   "outputs": [],
   "source": [
    "run2urls = pd.read_csv(dirpath+run2+'test.csv',names=['jobNum','URL','hash'])"
   ]
  },
  {
   "cell_type": "code",
   "execution_count": 8,
   "metadata": {},
   "outputs": [],
   "source": [
    "m1 = pd.merge(urls,run1urls, on=['jobNum','URL'], how=\"left\")"
   ]
  },
  {
   "cell_type": "code",
   "execution_count": 9,
   "metadata": {},
   "outputs": [],
   "source": [
    "m2 = pd.merge(m1,run2urls, on=['jobNum','URL'], how=\"left\")"
   ]
  },
  {
   "cell_type": "code",
   "execution_count": 10,
   "metadata": {},
   "outputs": [],
   "source": [
    "m2['hash_x'] = m2['hash_x'].fillna(m2['hash_y'])"
   ]
  },
  {
   "cell_type": "code",
   "execution_count": 11,
   "metadata": {},
   "outputs": [],
   "source": [
    "m2 = m2.drop(columns=['hash_y'])\n",
    "m2 = m2.rename(columns={'hash_x':'hash'})"
   ]
  },
  {
   "cell_type": "code",
   "execution_count": 12,
   "metadata": {},
   "outputs": [
    {
     "data": {
      "text/html": [
       "<div>\n",
       "<style scoped>\n",
       "    .dataframe tbody tr th:only-of-type {\n",
       "        vertical-align: middle;\n",
       "    }\n",
       "\n",
       "    .dataframe tbody tr th {\n",
       "        vertical-align: top;\n",
       "    }\n",
       "\n",
       "    .dataframe thead th {\n",
       "        text-align: right;\n",
       "    }\n",
       "</style>\n",
       "<table border=\"1\" class=\"dataframe\">\n",
       "  <thead>\n",
       "    <tr style=\"text-align: right;\">\n",
       "      <th></th>\n",
       "      <th>jobNum</th>\n",
       "      <th>URL</th>\n",
       "      <th>hash</th>\n",
       "    </tr>\n",
       "  </thead>\n",
       "  <tbody>\n",
       "    <tr>\n",
       "      <th>19</th>\n",
       "      <td>20</td>\n",
       "      <td>http://desaulnierforcongress.com/biography/</td>\n",
       "      <td>NaN</td>\n",
       "    </tr>\n",
       "    <tr>\n",
       "      <th>23</th>\n",
       "      <td>24</td>\n",
       "      <td>http://www.jackiespeier.org/about</td>\n",
       "      <td>NaN</td>\n",
       "    </tr>\n",
       "    <tr>\n",
       "      <th>37</th>\n",
       "      <td>38</td>\n",
       "      <td>https://juliabrownley.com/</td>\n",
       "      <td>NaN</td>\n",
       "    </tr>\n",
       "    <tr>\n",
       "      <th>43</th>\n",
       "      <td>44</td>\n",
       "      <td>http://bradsherman.com/about-brad/</td>\n",
       "      <td>NaN</td>\n",
       "    </tr>\n",
       "    <tr>\n",
       "      <th>46</th>\n",
       "      <td>47</td>\n",
       "      <td>http://www.tedlieu.com/meet_ted</td>\n",
       "      <td>NaN</td>\n",
       "    </tr>\n",
       "    <tr>\n",
       "      <th>...</th>\n",
       "      <td>...</td>\n",
       "      <td>...</td>\n",
       "      <td>...</td>\n",
       "    </tr>\n",
       "    <tr>\n",
       "      <th>1989</th>\n",
       "      <td>1990</td>\n",
       "      <td>http://danielhoffay2020.org/</td>\n",
       "      <td>NaN</td>\n",
       "    </tr>\n",
       "    <tr>\n",
       "      <th>2002</th>\n",
       "      <td>2003</td>\n",
       "      <td>http://jhoomanawanuicampaign.com/</td>\n",
       "      <td>NaN</td>\n",
       "    </tr>\n",
       "    <tr>\n",
       "      <th>2008</th>\n",
       "      <td>2009</td>\n",
       "      <td>http://www.haggitforhouse.com/</td>\n",
       "      <td>NaN</td>\n",
       "    </tr>\n",
       "    <tr>\n",
       "      <th>2045</th>\n",
       "      <td>2046</td>\n",
       "      <td>http://www.janicekforsenate2020.com/</td>\n",
       "      <td>NaN</td>\n",
       "    </tr>\n",
       "    <tr>\n",
       "      <th>2072</th>\n",
       "      <td>2073</td>\n",
       "      <td>http://capito2020.com/</td>\n",
       "      <td>NaN</td>\n",
       "    </tr>\n",
       "  </tbody>\n",
       "</table>\n",
       "<p>173 rows × 3 columns</p>\n",
       "</div>"
      ],
      "text/plain": [
       "      jobNum                                          URL hash\n",
       "19        20  http://desaulnierforcongress.com/biography/  NaN\n",
       "23        24            http://www.jackiespeier.org/about  NaN\n",
       "37        38                   https://juliabrownley.com/  NaN\n",
       "43        44           http://bradsherman.com/about-brad/  NaN\n",
       "46        47              http://www.tedlieu.com/meet_ted  NaN\n",
       "...      ...                                          ...  ...\n",
       "1989    1990                 http://danielhoffay2020.org/  NaN\n",
       "2002    2003            http://jhoomanawanuicampaign.com/  NaN\n",
       "2008    2009               http://www.haggitforhouse.com/  NaN\n",
       "2045    2046         http://www.janicekforsenate2020.com/  NaN\n",
       "2072    2073                       http://capito2020.com/  NaN\n",
       "\n",
       "[173 rows x 3 columns]"
      ]
     },
     "execution_count": 12,
     "metadata": {},
     "output_type": "execute_result"
    }
   ],
   "source": [
    "m2[m2['hash'].isna()]"
   ]
  },
  {
   "cell_type": "raw",
   "metadata": {},
   "source": [
    "m2.to_csv(\"results.csv\", index=False)"
   ]
  },
  {
   "cell_type": "code",
   "execution_count": null,
   "metadata": {},
   "outputs": [],
   "source": []
  },
  {
   "cell_type": "code",
   "execution_count": 13,
   "metadata": {},
   "outputs": [],
   "source": [
    "import sys, os\n",
    "cdir = os.getcwd()\n",
    "sys.path.insert(0, cdir+'/scraping_tools')\n",
    "from browserinstance import BrowserInstance"
   ]
  },
  {
   "cell_type": "code",
   "execution_count": 14,
   "metadata": {},
   "outputs": [],
   "source": [
    "import re"
   ]
  },
  {
   "cell_type": "code",
   "execution_count": 15,
   "metadata": {},
   "outputs": [],
   "source": [
    "archive = '/scratch/group/oit_research_services/projects/001_kunovich_candidates/data_hash/'"
   ]
  },
  {
   "cell_type": "code",
   "execution_count": 16,
   "metadata": {},
   "outputs": [],
   "source": [
    "browser = BrowserInstance(save_directory=archive, tor=False)"
   ]
  },
  {
   "cell_type": "raw",
   "metadata": {},
   "source": [
    "archive = '/scratch/group/oit_research_services/projects/001_kunovich_candidates/15067583/'\n",
    "h = m2['hash'][0]+'.txz'\n",
    "\n",
    "with BrowserInstance(save_directory=archive, tor=False) as browser:\n",
    "    s = browser.get_page_from_archive(archive+h)"
   ]
  },
  {
   "cell_type": "code",
   "execution_count": 20,
   "metadata": {},
   "outputs": [],
   "source": [
    "i = 0"
   ]
  },
  {
   "cell_type": "code",
   "execution_count": 21,
   "metadata": {},
   "outputs": [
    {
     "data": {
      "text/plain": [
       "jobNum                                                    1\n",
       "URL                   https://jamesaverhart.com/meet-james/\n",
       "hash      9816d88b76bca333830f3243a2b9095cd2a45a7fc40b8b...\n",
       "Name: 0, dtype: object"
      ]
     },
     "execution_count": 21,
     "metadata": {},
     "output_type": "execute_result"
    }
   ],
   "source": [
    "m2.loc[i]"
   ]
  },
  {
   "cell_type": "code",
   "execution_count": 22,
   "metadata": {},
   "outputs": [],
   "source": [
    "h = m2['hash'][i]+'.txz'"
   ]
  },
  {
   "cell_type": "code",
   "execution_count": 23,
   "metadata": {},
   "outputs": [
    {
     "data": {
      "text/plain": [
       "'9816d88b76bca333830f3243a2b9095cd2a45a7fc40b8bceafd21ee6943eeb72.txz'"
      ]
     },
     "execution_count": 23,
     "metadata": {},
     "output_type": "execute_result"
    }
   ],
   "source": [
    "h"
   ]
  },
  {
   "cell_type": "code",
   "execution_count": 24,
   "metadata": {},
   "outputs": [],
   "source": [
    "s = browser.get_page_from_archive(archive+h)"
   ]
  },
  {
   "cell_type": "code",
   "execution_count": 25,
   "metadata": {},
   "outputs": [],
   "source": [
    "string = \" \".join(re.split('\\t|\\n',str(s)))"
   ]
  },
  {
   "cell_type": "code",
   "execution_count": 26,
   "metadata": {},
   "outputs": [],
   "source": [
    "stringlist = re.split(r'<.*?\\>',string)"
   ]
  },
  {
   "cell_type": "code",
   "execution_count": 27,
   "metadata": {},
   "outputs": [
    {
     "data": {
      "text/plain": [
       "['MEET JAMES – James Averhart |',\n",
       " 'Contact Us: +1 (251) 216-1411',\n",
       " 'info@jamesaverhart.com',\n",
       " 'Meet James',\n",
       " 'Topic of Concerns',\n",
       " 'Get Involved',\n",
       " 'Donate',\n",
       " 'MEET JAMES',\n",
       " 'Leadership',\n",
       " 'Matters',\n",
       " 'James  T. Averhart, Jr, is a native of Mobile, Alabama and the first born of  three children. He is a retired United States Marine, Chief Warrant  Officer Five (CWO5). James is the President and CEO of J.T. Averhart  Group (JTAG), a non-profit organization that facilitates ex-offenders’  re-entry into society. He is the Past National President of the Montford  Point Marines Association and currently serves as Executive Director of  the National Association for the Advancement of Colored People (NAACP),  Mobile Unit #5044.',\n",
       " 'James  enlisted in the United States Marine Corps in January 1987 as a Basic  Infantrymen and would later change his Military Occupational Specialty  to Military Police &amp; Correctional Officer.\\xa0\\xa0 He served on  active duty from 1987 to 2017. He is a combat-tested veteran having  served in direct combat action in Operations Desert Shield and the  ground offensive in Desert Storm. Additionally, James served in support  of the Global War on Terrorism, Operations Enduring Freedom (OEF)  Afghanistan / and Operation Iraqi Freedom (OIF) Iraq. Retiring from the  Pentagon as the Head of Marine Corps Corrections Branch, James completed  30 years 2 months and 12 days of honorable and faithful service.',\n",
       " 'James  is an active member in his church, community, and several National and  Civic Organizations to include the American Corrections Association,  National Naval Officers Association, Blacks in Government, NAACP, Marine  Corps League, and the Omega Psi Phi Fraternity, Incorporated.',\n",
       " 'James  is a graduate of the U.S. Army Airborne School, Non-Lethal Weapons  Instructor Course, Weapons of Mass Destruction Trainer Course and  Hostage Negotiation School. He also pursued his educational goals while  serving on active military duty and earned a Bachelor of Science in  Criminal Justice and a Master of Arts in Security Management from the  American Military University. James furthered his education by earning a  Doctorate Degree in Theology and Biblical Studies from the North  Carolina College of Theology and Seminary. He is currently working  toward a Doctorate Degree in Organizational Management and Leadership  from Ashford University.',\n",
       " 'James’  personal military decorations include the Legion of Merit; Navy and  Marine Corps Commendation Medal (w/Four Gold stars in lieu of fifth  award); Navy and Marine Corps Achievement Medal (w/gold star in lieu of  third award); Combat Action Ribbon; Marine Corps Good Conduct Medal  (w/three bronze stars); and the Marine Corps Outstanding Volunteer  Service Medal (w/gold star in lieu of second award).',\n",
       " 'James  has been the recipient of the following civilian awards while on active  duty: Governor of Maryland Citation; Governor of Alabama Certificate of  Appreciation; Proclamation from the City of Mobile, AL proclaiming  November 2, 2012 as “Dr. James T. Averhart, Day”; 2016 Jeffries Carey  National Achievement Award; 2016 Inductee in the National Montford Point  Marine Association, Inc. Hall of Fame; Proclamation from the City of  Mobile, AL and Resolution from the Mobile County Commission both  proclaiming October 20, 2017, as “James T. Averhart, Jr. Day”. He also  received the Key to the City of Mobile, AL on 20 October 2017.',\n",
       " 'James  T. Averhart, Jr., reached the highest rank achievable as a Warrant  Officer, by being promoted to Chief Warrant Officer Five (CWO5). He  retired from active military duty from the Marine Corps on October 31,  2017, after 30 plus years of Honorable and Faithful Service to The  United States of America. He is a staunch advocate for Equal and Civil  rights and looks forward to continuing his life’s work as a public  servant to his community, state, and country.',\n",
       " 'Read Full Bio',\n",
       " \"James Averhart's Full Bio\",\n",
       " 'Be The First',\n",
       " \"Leave this field empty if you're human:\",\n",
       " 'CONTACT US',\n",
       " 'Phone:',\n",
       " '+1(251) 216 1411',\n",
       " 'Email:',\n",
       " 'info@jamesaverhart.com',\n",
       " 'Address:',\n",
       " 'P.O. Box 40661 | Mobile, AL 36604 | United States',\n",
       " 'Copyright © 2020. Paid For By The Campaign To Elect James Averhart. All Rights Reserved.']"
      ]
     },
     "execution_count": 27,
     "metadata": {},
     "output_type": "execute_result"
    }
   ],
   "source": [
    "[el.strip() for el in stringlist if len(el.strip())>5 and \"{\" not in el and \"[\" not in el and \"_\" not in el and \"=\" not in el and \"||\" not in el and \"&&\" not in el]"
   ]
  },
  {
   "cell_type": "code",
   "execution_count": null,
   "metadata": {},
   "outputs": [],
   "source": []
  },
  {
   "cell_type": "code",
   "execution_count": 28,
   "metadata": {},
   "outputs": [
    {
     "ename": "NameError",
     "evalue": "name 't1' is not defined",
     "output_type": "error",
     "traceback": [
      "\u001b[0;31m---------------------------------------------------------------------------\u001b[0m",
      "\u001b[0;31mNameError\u001b[0m                                 Traceback (most recent call last)",
      "\u001b[0;32m<ipython-input-28-05a4c40e30e6>\u001b[0m in \u001b[0;36m<module>\u001b[0;34m\u001b[0m\n\u001b[0;32m----> 1\u001b[0;31m \u001b[0mt1\u001b[0m \u001b[0;34m==\u001b[0m \u001b[0mt2\u001b[0m\u001b[0;34m\u001b[0m\u001b[0;34m\u001b[0m\u001b[0m\n\u001b[0m",
      "\u001b[0;31mNameError\u001b[0m: name 't1' is not defined"
     ]
    }
   ],
   "source": [
    "t1 == t2"
   ]
  },
  {
   "cell_type": "code",
   "execution_count": 31,
   "metadata": {},
   "outputs": [],
   "source": [
    "def get_page_text(i,archive=archive):\n",
    "    \n",
    "    if pd.isnull(m2['hash'][i]):\n",
    "        return \"None\"\n",
    "    else:\n",
    "        h = m2['hash'][i]+'.txz'\n",
    "    s = browser.get_page_from_archive(archive+h)\n",
    "    string = \" \".join(re.split('\\t|\\n',str(s)))\n",
    "    stringlist = re.split(r'<.*?\\>',string)\n",
    "    text = [el.strip() for el in stringlist if len(el.strip())>5 and \"{\" not in el and \"[\" not in el and \"_\" not in el and \"=\" not in el and \"||\" not in el and \"&&\" not in el]\n",
    "    \n",
    "    return text"
   ]
  },
  {
   "cell_type": "code",
   "execution_count": 32,
   "metadata": {},
   "outputs": [
    {
     "data": {
      "text/plain": [
       "['MEET JAMES – James Averhart |',\n",
       " 'Contact Us: +1 (251) 216-1411',\n",
       " 'info@jamesaverhart.com',\n",
       " 'Meet James',\n",
       " 'Topic of Concerns',\n",
       " 'Get Involved',\n",
       " 'Donate',\n",
       " 'MEET JAMES',\n",
       " 'Leadership',\n",
       " 'Matters',\n",
       " 'James  T. Averhart, Jr, is a native of Mobile, Alabama and the first born of  three children. He is a retired United States Marine, Chief Warrant  Officer Five (CWO5). James is the President and CEO of J.T. Averhart  Group (JTAG), a non-profit organization that facilitates ex-offenders’  re-entry into society. He is the Past National President of the Montford  Point Marines Association and currently serves as Executive Director of  the National Association for the Advancement of Colored People (NAACP),  Mobile Unit #5044.',\n",
       " 'James  enlisted in the United States Marine Corps in January 1987 as a Basic  Infantrymen and would later change his Military Occupational Specialty  to Military Police &amp; Correctional Officer.\\xa0\\xa0 He served on  active duty from 1987 to 2017. He is a combat-tested veteran having  served in direct combat action in Operations Desert Shield and the  ground offensive in Desert Storm. Additionally, James served in support  of the Global War on Terrorism, Operations Enduring Freedom (OEF)  Afghanistan / and Operation Iraqi Freedom (OIF) Iraq. Retiring from the  Pentagon as the Head of Marine Corps Corrections Branch, James completed  30 years 2 months and 12 days of honorable and faithful service.',\n",
       " 'James  is an active member in his church, community, and several National and  Civic Organizations to include the American Corrections Association,  National Naval Officers Association, Blacks in Government, NAACP, Marine  Corps League, and the Omega Psi Phi Fraternity, Incorporated.',\n",
       " 'James  is a graduate of the U.S. Army Airborne School, Non-Lethal Weapons  Instructor Course, Weapons of Mass Destruction Trainer Course and  Hostage Negotiation School. He also pursued his educational goals while  serving on active military duty and earned a Bachelor of Science in  Criminal Justice and a Master of Arts in Security Management from the  American Military University. James furthered his education by earning a  Doctorate Degree in Theology and Biblical Studies from the North  Carolina College of Theology and Seminary. He is currently working  toward a Doctorate Degree in Organizational Management and Leadership  from Ashford University.',\n",
       " 'James’  personal military decorations include the Legion of Merit; Navy and  Marine Corps Commendation Medal (w/Four Gold stars in lieu of fifth  award); Navy and Marine Corps Achievement Medal (w/gold star in lieu of  third award); Combat Action Ribbon; Marine Corps Good Conduct Medal  (w/three bronze stars); and the Marine Corps Outstanding Volunteer  Service Medal (w/gold star in lieu of second award).',\n",
       " 'James  has been the recipient of the following civilian awards while on active  duty: Governor of Maryland Citation; Governor of Alabama Certificate of  Appreciation; Proclamation from the City of Mobile, AL proclaiming  November 2, 2012 as “Dr. James T. Averhart, Day”; 2016 Jeffries Carey  National Achievement Award; 2016 Inductee in the National Montford Point  Marine Association, Inc. Hall of Fame; Proclamation from the City of  Mobile, AL and Resolution from the Mobile County Commission both  proclaiming October 20, 2017, as “James T. Averhart, Jr. Day”. He also  received the Key to the City of Mobile, AL on 20 October 2017.',\n",
       " 'James  T. Averhart, Jr., reached the highest rank achievable as a Warrant  Officer, by being promoted to Chief Warrant Officer Five (CWO5). He  retired from active military duty from the Marine Corps on October 31,  2017, after 30 plus years of Honorable and Faithful Service to The  United States of America. He is a staunch advocate for Equal and Civil  rights and looks forward to continuing his life’s work as a public  servant to his community, state, and country.',\n",
       " 'Read Full Bio',\n",
       " \"James Averhart's Full Bio\",\n",
       " 'Be The First',\n",
       " \"Leave this field empty if you're human:\",\n",
       " 'CONTACT US',\n",
       " 'Phone:',\n",
       " '+1(251) 216 1411',\n",
       " 'Email:',\n",
       " 'info@jamesaverhart.com',\n",
       " 'Address:',\n",
       " 'P.O. Box 40661 | Mobile, AL 36604 | United States',\n",
       " 'Copyright © 2020. Paid For By The Campaign To Elect James Averhart. All Rights Reserved.']"
      ]
     },
     "execution_count": 32,
     "metadata": {},
     "output_type": "execute_result"
    }
   ],
   "source": [
    "get_page_text(0)"
   ]
  },
  {
   "cell_type": "code",
   "execution_count": 33,
   "metadata": {},
   "outputs": [
    {
     "data": {
      "text/html": [
       "<div>\n",
       "<style scoped>\n",
       "    .dataframe tbody tr th:only-of-type {\n",
       "        vertical-align: middle;\n",
       "    }\n",
       "\n",
       "    .dataframe tbody tr th {\n",
       "        vertical-align: top;\n",
       "    }\n",
       "\n",
       "    .dataframe thead th {\n",
       "        text-align: right;\n",
       "    }\n",
       "</style>\n",
       "<table border=\"1\" class=\"dataframe\">\n",
       "  <thead>\n",
       "    <tr style=\"text-align: right;\">\n",
       "      <th></th>\n",
       "      <th>jobNum</th>\n",
       "      <th>URL</th>\n",
       "      <th>hash</th>\n",
       "    </tr>\n",
       "  </thead>\n",
       "  <tbody>\n",
       "    <tr>\n",
       "      <th>0</th>\n",
       "      <td>1</td>\n",
       "      <td>https://jamesaverhart.com/meet-james/</td>\n",
       "      <td>9816d88b76bca333830f3243a2b9095cd2a45a7fc40b8b...</td>\n",
       "    </tr>\n",
       "    <tr>\n",
       "      <th>1</th>\n",
       "      <td>2</td>\n",
       "      <td>https://harveyhall2congress.com/meet-phyllis/#...</td>\n",
       "      <td>39b6b4efe415004e0de4d3690238ea420ba8b8343c9fa6...</td>\n",
       "    </tr>\n",
       "    <tr>\n",
       "      <th>2</th>\n",
       "      <td>3</td>\n",
       "      <td>https://www.winfrey4congress.com/meet-dr-dia</td>\n",
       "      <td>92bb52344b172ef964746c21b0b5554d8a07e68141423a...</td>\n",
       "    </tr>\n",
       "    <tr>\n",
       "      <th>3</th>\n",
       "      <td>4</td>\n",
       "      <td>https://neighbors4congress.com/meet-rick-neigh...</td>\n",
       "      <td>358662f3901ac0d0bbd82c192b3134621775c1e1f205ba...</td>\n",
       "    </tr>\n",
       "    <tr>\n",
       "      <th>4</th>\n",
       "      <td>5</td>\n",
       "      <td>https://sewellforcongress.com/about-terri/</td>\n",
       "      <td>1e87955c9e1232f69e3ffb474d8fe501538a0a186f450b...</td>\n",
       "    </tr>\n",
       "    <tr>\n",
       "      <th>5</th>\n",
       "      <td>6</td>\n",
       "      <td>https://www.tomohalleran.com/about-tom</td>\n",
       "      <td>9bc4ae3eaa4180677c376d97cda12af4befc49f996cbec...</td>\n",
       "    </tr>\n",
       "    <tr>\n",
       "      <th>6</th>\n",
       "      <td>7</td>\n",
       "      <td>https://www.kirkpatrickforcongress.com/about/</td>\n",
       "      <td>c997bd0dd19884b9d995425a1168628ed2f0142925be93...</td>\n",
       "    </tr>\n",
       "    <tr>\n",
       "      <th>7</th>\n",
       "      <td>8</td>\n",
       "      <td>https://standwithraul.com/bio/</td>\n",
       "      <td>2632f2ee383645eb8247d7844bfe2732aec1f010c93837...</td>\n",
       "    </tr>\n",
       "    <tr>\n",
       "      <th>8</th>\n",
       "      <td>9</td>\n",
       "      <td>https://www.delinadisanto.com/about</td>\n",
       "      <td>cd5294fb2615402a10a91faf5e9bc557a6f134f30131a5...</td>\n",
       "    </tr>\n",
       "    <tr>\n",
       "      <th>9</th>\n",
       "      <td>10</td>\n",
       "      <td>https://www.joangreeneaz.com/about</td>\n",
       "      <td>d7d440bc0656ca4a39d4957eb2ef095785b140ab46cc2a...</td>\n",
       "    </tr>\n",
       "    <tr>\n",
       "      <th>10</th>\n",
       "      <td>11</td>\n",
       "      <td>https://hiralforcongress.com/</td>\n",
       "      <td>05087e3d48376adacdf8fcacde6aa2b6b744522052ea19...</td>\n",
       "    </tr>\n",
       "    <tr>\n",
       "      <th>11</th>\n",
       "      <td>12</td>\n",
       "      <td>https://gallegoforarizona.com/#meetruben</td>\n",
       "      <td>0aeff9568a4650df005bd95a7672e77898c7dd863c05f4...</td>\n",
       "    </tr>\n",
       "    <tr>\n",
       "      <th>12</th>\n",
       "      <td>13</td>\n",
       "      <td>https://muscato4congress.com/about/</td>\n",
       "      <td>c1f367cd57a22eafc0b05f8031c9a20390d8d4e377e844...</td>\n",
       "    </tr>\n",
       "    <tr>\n",
       "      <th>13</th>\n",
       "      <td>14</td>\n",
       "      <td>https://www.stantonforarizona.com/</td>\n",
       "      <td>1268952954a6b5bde78ae6c49fbfc1ccf4c8a42082afb0...</td>\n",
       "    </tr>\n",
       "    <tr>\n",
       "      <th>14</th>\n",
       "      <td>15</td>\n",
       "      <td>https://www.joyceelliott.com/about</td>\n",
       "      <td>5db56ae45ba3213548b4e5cb71e51471a6260b5210e877...</td>\n",
       "    </tr>\n",
       "    <tr>\n",
       "      <th>15</th>\n",
       "      <td>16</td>\n",
       "      <td>https://www.celestewilliamsforarkansas.com/about</td>\n",
       "      <td>cde886a822e7ce8fb14753f1245f2460d80ac793c12deb...</td>\n",
       "    </tr>\n",
       "    <tr>\n",
       "      <th>16</th>\n",
       "      <td>17</td>\n",
       "      <td>https://williamhansonforcongress.com/bio/</td>\n",
       "      <td>2c3adffe53b3451c628920157803b899af3e702f35cbe9...</td>\n",
       "    </tr>\n",
       "    <tr>\n",
       "      <th>17</th>\n",
       "      <td>18</td>\n",
       "      <td>https://audreyforcongress.com/meet-audrey/</td>\n",
       "      <td>b5b0ab876a2da8a928af464977ff7ffa58132c7217b254...</td>\n",
       "    </tr>\n",
       "    <tr>\n",
       "      <th>18</th>\n",
       "      <td>19</td>\n",
       "      <td>https://www.harderforcongress.com/en/about-josh</td>\n",
       "      <td>61f35b38402593319adb9810b3eaf0de87006e0a3b6577...</td>\n",
       "    </tr>\n",
       "    <tr>\n",
       "      <th>19</th>\n",
       "      <td>20</td>\n",
       "      <td>http://desaulnierforcongress.com/biography/</td>\n",
       "      <td>NaN</td>\n",
       "    </tr>\n",
       "  </tbody>\n",
       "</table>\n",
       "</div>"
      ],
      "text/plain": [
       "    jobNum                                                URL  \\\n",
       "0        1              https://jamesaverhart.com/meet-james/   \n",
       "1        2  https://harveyhall2congress.com/meet-phyllis/#...   \n",
       "2        3       https://www.winfrey4congress.com/meet-dr-dia   \n",
       "3        4  https://neighbors4congress.com/meet-rick-neigh...   \n",
       "4        5         https://sewellforcongress.com/about-terri/   \n",
       "5        6             https://www.tomohalleran.com/about-tom   \n",
       "6        7      https://www.kirkpatrickforcongress.com/about/   \n",
       "7        8                     https://standwithraul.com/bio/   \n",
       "8        9                https://www.delinadisanto.com/about   \n",
       "9       10                 https://www.joangreeneaz.com/about   \n",
       "10      11                      https://hiralforcongress.com/   \n",
       "11      12           https://gallegoforarizona.com/#meetruben   \n",
       "12      13                https://muscato4congress.com/about/   \n",
       "13      14                 https://www.stantonforarizona.com/   \n",
       "14      15                 https://www.joyceelliott.com/about   \n",
       "15      16   https://www.celestewilliamsforarkansas.com/about   \n",
       "16      17          https://williamhansonforcongress.com/bio/   \n",
       "17      18         https://audreyforcongress.com/meet-audrey/   \n",
       "18      19    https://www.harderforcongress.com/en/about-josh   \n",
       "19      20        http://desaulnierforcongress.com/biography/   \n",
       "\n",
       "                                                 hash  \n",
       "0   9816d88b76bca333830f3243a2b9095cd2a45a7fc40b8b...  \n",
       "1   39b6b4efe415004e0de4d3690238ea420ba8b8343c9fa6...  \n",
       "2   92bb52344b172ef964746c21b0b5554d8a07e68141423a...  \n",
       "3   358662f3901ac0d0bbd82c192b3134621775c1e1f205ba...  \n",
       "4   1e87955c9e1232f69e3ffb474d8fe501538a0a186f450b...  \n",
       "5   9bc4ae3eaa4180677c376d97cda12af4befc49f996cbec...  \n",
       "6   c997bd0dd19884b9d995425a1168628ed2f0142925be93...  \n",
       "7   2632f2ee383645eb8247d7844bfe2732aec1f010c93837...  \n",
       "8   cd5294fb2615402a10a91faf5e9bc557a6f134f30131a5...  \n",
       "9   d7d440bc0656ca4a39d4957eb2ef095785b140ab46cc2a...  \n",
       "10  05087e3d48376adacdf8fcacde6aa2b6b744522052ea19...  \n",
       "11  0aeff9568a4650df005bd95a7672e77898c7dd863c05f4...  \n",
       "12  c1f367cd57a22eafc0b05f8031c9a20390d8d4e377e844...  \n",
       "13  1268952954a6b5bde78ae6c49fbfc1ccf4c8a42082afb0...  \n",
       "14  5db56ae45ba3213548b4e5cb71e51471a6260b5210e877...  \n",
       "15  cde886a822e7ce8fb14753f1245f2460d80ac793c12deb...  \n",
       "16  2c3adffe53b3451c628920157803b899af3e702f35cbe9...  \n",
       "17  b5b0ab876a2da8a928af464977ff7ffa58132c7217b254...  \n",
       "18  61f35b38402593319adb9810b3eaf0de87006e0a3b6577...  \n",
       "19                                                NaN  "
      ]
     },
     "execution_count": 33,
     "metadata": {},
     "output_type": "execute_result"
    }
   ],
   "source": [
    "m2[:20]"
   ]
  },
  {
   "cell_type": "code",
   "execution_count": 34,
   "metadata": {},
   "outputs": [],
   "source": [
    "m2['PageText']=m2[:20].apply(lambda x: get_page_text(x.name), axis=1)"
   ]
  },
  {
   "cell_type": "code",
   "execution_count": 36,
   "metadata": {},
   "outputs": [
    {
     "data": {
      "text/html": [
       "<div>\n",
       "<style scoped>\n",
       "    .dataframe tbody tr th:only-of-type {\n",
       "        vertical-align: middle;\n",
       "    }\n",
       "\n",
       "    .dataframe tbody tr th {\n",
       "        vertical-align: top;\n",
       "    }\n",
       "\n",
       "    .dataframe thead th {\n",
       "        text-align: right;\n",
       "    }\n",
       "</style>\n",
       "<table border=\"1\" class=\"dataframe\">\n",
       "  <thead>\n",
       "    <tr style=\"text-align: right;\">\n",
       "      <th></th>\n",
       "      <th>jobNum</th>\n",
       "      <th>URL</th>\n",
       "      <th>PageText</th>\n",
       "    </tr>\n",
       "  </thead>\n",
       "  <tbody>\n",
       "    <tr>\n",
       "      <th>0</th>\n",
       "      <td>1</td>\n",
       "      <td>https://jamesaverhart.com/meet-james/</td>\n",
       "      <td>[MEET JAMES – James Averhart |, Contact Us: +1...</td>\n",
       "    </tr>\n",
       "    <tr>\n",
       "      <th>1</th>\n",
       "      <td>2</td>\n",
       "      <td>https://harveyhall2congress.com/meet-phyllis/#...</td>\n",
       "      <td>[Meet Phyllis ⋆ Phyllis Harvey-Hall for Congre...</td>\n",
       "    </tr>\n",
       "    <tr>\n",
       "      <th>2</th>\n",
       "      <td>3</td>\n",
       "      <td>https://www.winfrey4congress.com/meet-dr-dia</td>\n",
       "      <td>[Dr. Winfrey for Congress]</td>\n",
       "    </tr>\n",
       "    <tr>\n",
       "      <th>3</th>\n",
       "      <td>4</td>\n",
       "      <td>https://neighbors4congress.com/meet-rick-neigh...</td>\n",
       "      <td>[One of your real Neighbors!, Skip to content,...</td>\n",
       "    </tr>\n",
       "    <tr>\n",
       "      <th>4</th>\n",
       "      <td>5</td>\n",
       "      <td>https://sewellforcongress.com/about-terri/</td>\n",
       "      <td>[About Terri, About Terri – sewellforcongress,...</td>\n",
       "    </tr>\n",
       "    <tr>\n",
       "      <th>5</th>\n",
       "      <td>6</td>\n",
       "      <td>https://www.tomohalleran.com/about-tom</td>\n",
       "      <td>[Biography | Raúl Grijalva, Leading Progressiv...</td>\n",
       "    </tr>\n",
       "    <tr>\n",
       "      <th>6</th>\n",
       "      <td>7</td>\n",
       "      <td>https://www.kirkpatrickforcongress.com/about/</td>\n",
       "      <td>[About Ann - Ann Kirkpatrick for Congress, fle...</td>\n",
       "    </tr>\n",
       "    <tr>\n",
       "      <th>7</th>\n",
       "      <td>8</td>\n",
       "      <td>https://standwithraul.com/bio/</td>\n",
       "      <td>[Biography | Raúl Grijalva, Leading Progressiv...</td>\n",
       "    </tr>\n",
       "    <tr>\n",
       "      <th>8</th>\n",
       "      <td>9</td>\n",
       "      <td>https://www.delinadisanto.com/about</td>\n",
       "      <td>[window.bi.sendBeat(1, 'Init'), About | Delina...</td>\n",
       "    </tr>\n",
       "    <tr>\n",
       "      <th>9</th>\n",
       "      <td>10</td>\n",
       "      <td>https://www.joangreeneaz.com/about</td>\n",
       "      <td>[window.bi.sendBeat(1, 'Init'), About | Delina...</td>\n",
       "    </tr>\n",
       "    <tr>\n",
       "      <th>10</th>\n",
       "      <td>11</td>\n",
       "      <td>https://hiralforcongress.com/</td>\n",
       "      <td>[Hiral Tipirneni for Congress, READ MORE, NOTE...</td>\n",
       "    </tr>\n",
       "    <tr>\n",
       "      <th>11</th>\n",
       "      <td>12</td>\n",
       "      <td>https://gallegoforarizona.com/#meetruben</td>\n",
       "      <td>[About Ann - Ann Kirkpatrick for Congress, fle...</td>\n",
       "    </tr>\n",
       "    <tr>\n",
       "      <th>12</th>\n",
       "      <td>13</td>\n",
       "      <td>https://muscato4congress.com/about/</td>\n",
       "      <td>[About - Michael Muscato For Congress Arizona ...</td>\n",
       "    </tr>\n",
       "    <tr>\n",
       "      <th>13</th>\n",
       "      <td>14</td>\n",
       "      <td>https://www.stantonforarizona.com/</td>\n",
       "      <td>[window.bi.sendBeat(1, 'Init'), Stanton for Ar...</td>\n",
       "    </tr>\n",
       "    <tr>\n",
       "      <th>14</th>\n",
       "      <td>15</td>\n",
       "      <td>https://www.joyceelliott.com/about</td>\n",
       "      <td>[]</td>\n",
       "    </tr>\n",
       "    <tr>\n",
       "      <th>15</th>\n",
       "      <td>16</td>\n",
       "      <td>https://www.celestewilliamsforarkansas.com/about</td>\n",
       "      <td>[window.bi.sendBeat(1, 'Init'), About | Celest...</td>\n",
       "    </tr>\n",
       "    <tr>\n",
       "      <th>16</th>\n",
       "      <td>17</td>\n",
       "      <td>https://williamhansonforcongress.com/bio/</td>\n",
       "      <td>[Biography - Willam Hanson - William Hanson fo...</td>\n",
       "    </tr>\n",
       "    <tr>\n",
       "      <th>17</th>\n",
       "      <td>18</td>\n",
       "      <td>https://audreyforcongress.com/meet-audrey/</td>\n",
       "      <td>[Biography | Mark DeSaulnier For Congress, You...</td>\n",
       "    </tr>\n",
       "    <tr>\n",
       "      <th>18</th>\n",
       "      <td>19</td>\n",
       "      <td>https://www.harderforcongress.com/en/about-josh</td>\n",
       "      <td>[English, Español, About Josh — Josh Harder fo...</td>\n",
       "    </tr>\n",
       "    <tr>\n",
       "      <th>19</th>\n",
       "      <td>20</td>\n",
       "      <td>http://desaulnierforcongress.com/biography/</td>\n",
       "      <td>None</td>\n",
       "    </tr>\n",
       "  </tbody>\n",
       "</table>\n",
       "</div>"
      ],
      "text/plain": [
       "    jobNum                                                URL  \\\n",
       "0        1              https://jamesaverhart.com/meet-james/   \n",
       "1        2  https://harveyhall2congress.com/meet-phyllis/#...   \n",
       "2        3       https://www.winfrey4congress.com/meet-dr-dia   \n",
       "3        4  https://neighbors4congress.com/meet-rick-neigh...   \n",
       "4        5         https://sewellforcongress.com/about-terri/   \n",
       "5        6             https://www.tomohalleran.com/about-tom   \n",
       "6        7      https://www.kirkpatrickforcongress.com/about/   \n",
       "7        8                     https://standwithraul.com/bio/   \n",
       "8        9                https://www.delinadisanto.com/about   \n",
       "9       10                 https://www.joangreeneaz.com/about   \n",
       "10      11                      https://hiralforcongress.com/   \n",
       "11      12           https://gallegoforarizona.com/#meetruben   \n",
       "12      13                https://muscato4congress.com/about/   \n",
       "13      14                 https://www.stantonforarizona.com/   \n",
       "14      15                 https://www.joyceelliott.com/about   \n",
       "15      16   https://www.celestewilliamsforarkansas.com/about   \n",
       "16      17          https://williamhansonforcongress.com/bio/   \n",
       "17      18         https://audreyforcongress.com/meet-audrey/   \n",
       "18      19    https://www.harderforcongress.com/en/about-josh   \n",
       "19      20        http://desaulnierforcongress.com/biography/   \n",
       "\n",
       "                                             PageText  \n",
       "0   [MEET JAMES – James Averhart |, Contact Us: +1...  \n",
       "1   [Meet Phyllis ⋆ Phyllis Harvey-Hall for Congre...  \n",
       "2                          [Dr. Winfrey for Congress]  \n",
       "3   [One of your real Neighbors!, Skip to content,...  \n",
       "4   [About Terri, About Terri – sewellforcongress,...  \n",
       "5   [Biography | Raúl Grijalva, Leading Progressiv...  \n",
       "6   [About Ann - Ann Kirkpatrick for Congress, fle...  \n",
       "7   [Biography | Raúl Grijalva, Leading Progressiv...  \n",
       "8   [window.bi.sendBeat(1, 'Init'), About | Delina...  \n",
       "9   [window.bi.sendBeat(1, 'Init'), About | Delina...  \n",
       "10  [Hiral Tipirneni for Congress, READ MORE, NOTE...  \n",
       "11  [About Ann - Ann Kirkpatrick for Congress, fle...  \n",
       "12  [About - Michael Muscato For Congress Arizona ...  \n",
       "13  [window.bi.sendBeat(1, 'Init'), Stanton for Ar...  \n",
       "14                                                 []  \n",
       "15  [window.bi.sendBeat(1, 'Init'), About | Celest...  \n",
       "16  [Biography - Willam Hanson - William Hanson fo...  \n",
       "17  [Biography | Mark DeSaulnier For Congress, You...  \n",
       "18  [English, Español, About Josh — Josh Harder fo...  \n",
       "19                                               None  "
      ]
     },
     "execution_count": 36,
     "metadata": {},
     "output_type": "execute_result"
    }
   ],
   "source": [
    "m2[:20][['jobNum', 'URL','PageText']]"
   ]
  },
  {
   "cell_type": "code",
   "execution_count": null,
   "metadata": {},
   "outputs": [],
   "source": []
  }
 ],
 "metadata": {
  "kernelspec": {
   "display_name": "Python 3",
   "language": "python",
   "name": "python3"
  },
  "language_info": {
   "codemirror_mode": {
    "name": "ipython",
    "version": 3
   },
   "file_extension": ".py",
   "mimetype": "text/x-python",
   "name": "python",
   "nbconvert_exporter": "python",
   "pygments_lexer": "ipython3",
   "version": "3.9.2"
  }
 },
 "nbformat": 4,
 "nbformat_minor": 4
}
